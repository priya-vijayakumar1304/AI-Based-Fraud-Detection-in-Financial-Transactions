{
 "cells": [
  {
   "cell_type": "code",
   "execution_count": null,
   "id": "ff99f3e0",
   "metadata": {},
   "outputs": [],
   "source": [
    "import pandas as pd\n",
    "import networkx as nx\n",
    "import torch\n",
    "import torch.nn as nn\n",
    "import torch.nn.functional as F"
   ]
  },
  {
   "cell_type": "code",
   "execution_count": null,
   "id": "dc14786d",
   "metadata": {},
   "outputs": [],
   "source": [
    "df = pd.read_csv('clean_data.csv')"
   ]
  },
  {
   "cell_type": "code",
   "execution_count": null,
   "id": "95eefa91",
   "metadata": {},
   "outputs": [],
   "source": [
    "# Create an empty graph\n",
    "G = nx.MultiGraph()\n",
    "\n",
    "# Add nodes to the graph for each unique card_id, merchant_name\n",
    "G.add_nodes_from(df[\"card_id\"].unique(), type='card_id')\n",
    "G.add_nodes_from(df[\"Merchant Name\"].unique(), type='merchant_name')"
   ]
  },
  {
   "cell_type": "code",
   "execution_count": null,
   "id": "10c0c7f0",
   "metadata": {},
   "outputs": [],
   "source": []
  }
 ],
 "metadata": {
  "kernelspec": {
   "display_name": "fd_venv",
   "language": "python",
   "name": "python3"
  },
  "language_info": {
   "name": "python",
   "version": "3.12.7"
  }
 },
 "nbformat": 4,
 "nbformat_minor": 5
}
